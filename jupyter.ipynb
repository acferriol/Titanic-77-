{
 "cells": [
  {
   "cell_type": "code",
   "execution_count": 268,
   "metadata": {},
   "outputs": [],
   "source": [
    "import numpy as np\n",
    "import pandas as pd\n",
    "from sklearn.neighbors import KNeighborsClassifier\n",
    "from sklearn.model_selection import train_test_split\n",
    "from sklearn.metrics import confusion_matrix\n",
    "from sklearn.metrics import accuracy_score\n",
    "from sklearn import preprocessing\n",
    "from sklearn.model_selection import cross_val_score"
   ]
  },
  {
   "cell_type": "code",
   "execution_count": 269,
   "metadata": {},
   "outputs": [
    {
     "name": "stdout",
     "output_type": "stream",
     "text": [
      "    PassengerId  Survived  Pclass  \\\n",
      "0             1         0       3   \n",
      "1             2         1       1   \n",
      "2             3         1       3   \n",
      "3             4         1       1   \n",
      "4             5         0       3   \n",
      "5             6         0       3   \n",
      "6             7         0       1   \n",
      "7             8         0       3   \n",
      "8             9         1       3   \n",
      "9            10         1       2   \n",
      "10           11         1       3   \n",
      "11           12         1       1   \n",
      "12           13         0       3   \n",
      "13           14         0       3   \n",
      "14           15         0       3   \n",
      "15           16         1       2   \n",
      "16           17         0       3   \n",
      "17           18         1       2   \n",
      "18           19         0       3   \n",
      "19           20         1       3   \n",
      "\n",
      "                                                 Name     Sex   Age  SibSp  \\\n",
      "0                             Braund, Mr. Owen Harris    male  22.0      1   \n",
      "1   Cumings, Mrs. John Bradley (Florence Briggs Th...  female  38.0      1   \n",
      "2                              Heikkinen, Miss. Laina  female  26.0      0   \n",
      "3        Futrelle, Mrs. Jacques Heath (Lily May Peel)  female  35.0      1   \n",
      "4                            Allen, Mr. William Henry    male  35.0      0   \n",
      "5                                    Moran, Mr. James    male   NaN      0   \n",
      "6                             McCarthy, Mr. Timothy J    male  54.0      0   \n",
      "7                      Palsson, Master. Gosta Leonard    male   2.0      3   \n",
      "8   Johnson, Mrs. Oscar W (Elisabeth Vilhelmina Berg)  female  27.0      0   \n",
      "9                 Nasser, Mrs. Nicholas (Adele Achem)  female  14.0      1   \n",
      "10                    Sandstrom, Miss. Marguerite Rut  female   4.0      1   \n",
      "11                           Bonnell, Miss. Elizabeth  female  58.0      0   \n",
      "12                     Saundercock, Mr. William Henry    male  20.0      0   \n",
      "13                        Andersson, Mr. Anders Johan    male  39.0      1   \n",
      "14               Vestrom, Miss. Hulda Amanda Adolfina  female  14.0      0   \n",
      "15                   Hewlett, Mrs. (Mary D Kingcome)   female  55.0      0   \n",
      "16                               Rice, Master. Eugene    male   2.0      4   \n",
      "17                       Williams, Mr. Charles Eugene    male   NaN      0   \n",
      "18  Vander Planke, Mrs. Julius (Emelia Maria Vande...  female  31.0      1   \n",
      "19                            Masselmani, Mrs. Fatima  female   NaN      0   \n",
      "\n",
      "    Parch            Ticket     Fare Cabin Embarked  \n",
      "0       0         A/5 21171   7.2500   NaN        S  \n",
      "1       0          PC 17599  71.2833   C85        C  \n",
      "2       0  STON/O2. 3101282   7.9250   NaN        S  \n",
      "3       0            113803  53.1000  C123        S  \n",
      "4       0            373450   8.0500   NaN        S  \n",
      "5       0            330877   8.4583   NaN        Q  \n",
      "6       0             17463  51.8625   E46        S  \n",
      "7       1            349909  21.0750   NaN        S  \n",
      "8       2            347742  11.1333   NaN        S  \n",
      "9       0            237736  30.0708   NaN        C  \n",
      "10      1           PP 9549  16.7000    G6        S  \n",
      "11      0            113783  26.5500  C103        S  \n",
      "12      0         A/5. 2151   8.0500   NaN        S  \n",
      "13      5            347082  31.2750   NaN        S  \n",
      "14      0            350406   7.8542   NaN        S  \n",
      "15      0            248706  16.0000   NaN        S  \n",
      "16      1            382652  29.1250   NaN        Q  \n",
      "17      0            244373  13.0000   NaN        S  \n",
      "18      0            345763  18.0000   NaN        S  \n",
      "19      0              2649   7.2250   NaN        C  \n"
     ]
    }
   ],
   "source": [
    "titanic = pd.read_csv('./train.csv')\n",
    "print(titanic.head(20))\n",
    "missing_data = titanic.isnull()\n",
    "#missing_data.head()"
   ]
  },
  {
   "cell_type": "code",
   "execution_count": 270,
   "metadata": {},
   "outputs": [
    {
     "name": "stdout",
     "output_type": "stream",
     "text": [
      "PassengerId\n",
      "False    891\n",
      "Name: PassengerId, dtype: int64\n",
      "\n",
      "Survived\n",
      "False    891\n",
      "Name: Survived, dtype: int64\n",
      "\n",
      "Pclass\n",
      "False    891\n",
      "Name: Pclass, dtype: int64\n",
      "\n",
      "Name\n",
      "False    891\n",
      "Name: Name, dtype: int64\n",
      "\n",
      "Sex\n",
      "False    891\n",
      "Name: Sex, dtype: int64\n",
      "\n",
      "Age\n",
      "False    714\n",
      "True     177\n",
      "Name: Age, dtype: int64\n",
      "\n",
      "SibSp\n",
      "False    891\n",
      "Name: SibSp, dtype: int64\n",
      "\n",
      "Parch\n",
      "False    891\n",
      "Name: Parch, dtype: int64\n",
      "\n",
      "Ticket\n",
      "False    891\n",
      "Name: Ticket, dtype: int64\n",
      "\n",
      "Fare\n",
      "False    891\n",
      "Name: Fare, dtype: int64\n",
      "\n",
      "Cabin\n",
      "True     687\n",
      "False    204\n",
      "Name: Cabin, dtype: int64\n",
      "\n",
      "Embarked\n",
      "False    889\n",
      "True       2\n",
      "Name: Embarked, dtype: int64\n",
      "\n"
     ]
    }
   ],
   "source": [
    "for column in missing_data.columns.values.tolist():\n",
    "    print(column)\n",
    "    print (missing_data[column].value_counts())\n",
    "    print(\"\")    "
   ]
  },
  {
   "cell_type": "code",
   "execution_count": 271,
   "metadata": {},
   "outputs": [],
   "source": [
    "titanic[['Age']] = titanic[['Age']].astype('float')\n",
    "titanic.dropna(subset=['Embarked'],axis = 0,inplace=True)\n",
    "titanic.reset_index(drop=True,inplace=True)\n",
    "titanic['Cabin'].replace(np.nan, titanic['Cabin'].value_counts().idxmax(),inplace=True)\n",
    "age_mean = titanic['Age'].mean(axis=0)\n",
    "titanic['Age'].replace(np.nan,age_mean,inplace=True)\n",
    "titanic['Sex'].replace('male',1,inplace=True)\n",
    "titanic['Sex'].replace('female',0,inplace=True)\n",
    "titanic['Embarked'].replace('C',1,inplace=True)\n",
    "titanic['Embarked'].replace('Q',2,inplace=True)\n",
    "titanic['Embarked'].replace('S',3,inplace=True)\n"
   ]
  },
  {
   "cell_type": "code",
   "execution_count": 272,
   "metadata": {},
   "outputs": [
    {
     "name": "stdout",
     "output_type": "stream",
     "text": [
      "PassengerId\n",
      "False    889\n",
      "Name: PassengerId, dtype: int64\n",
      "\n",
      "Survived\n",
      "False    889\n",
      "Name: Survived, dtype: int64\n",
      "\n",
      "Pclass\n",
      "False    889\n",
      "Name: Pclass, dtype: int64\n",
      "\n",
      "Name\n",
      "False    889\n",
      "Name: Name, dtype: int64\n",
      "\n",
      "Sex\n",
      "False    889\n",
      "Name: Sex, dtype: int64\n",
      "\n",
      "Age\n",
      "False    889\n",
      "Name: Age, dtype: int64\n",
      "\n",
      "SibSp\n",
      "False    889\n",
      "Name: SibSp, dtype: int64\n",
      "\n",
      "Parch\n",
      "False    889\n",
      "Name: Parch, dtype: int64\n",
      "\n",
      "Ticket\n",
      "False    889\n",
      "Name: Ticket, dtype: int64\n",
      "\n",
      "Fare\n",
      "False    889\n",
      "Name: Fare, dtype: int64\n",
      "\n",
      "Cabin\n",
      "False    889\n",
      "Name: Cabin, dtype: int64\n",
      "\n",
      "Embarked\n",
      "False    889\n",
      "Name: Embarked, dtype: int64\n",
      "\n"
     ]
    }
   ],
   "source": [
    "missing_data = titanic.isnull()\n",
    "for column in missing_data.columns.values.tolist():\n",
    "    print(column)\n",
    "    print (missing_data[column].value_counts())\n",
    "    print(\"\") "
   ]
  },
  {
   "cell_type": "code",
   "execution_count": 273,
   "metadata": {},
   "outputs": [
    {
     "name": "stderr",
     "output_type": "stream",
     "text": [
      "C:\\Users\\folgu\\AppData\\Local\\Temp\\ipykernel_7688\\3465745960.py:2: UserWarning: Pandas doesn't allow columns to be created via a new attribute name - see https://pandas.pydata.org/pandas-docs/stable/indexing.html#attribute-access\n",
      "  data.features = data[['Pclass','Sex','Age','SibSp','Parch','Embarked']]\n",
      "C:\\Users\\folgu\\AppData\\Local\\Temp\\ipykernel_7688\\3465745960.py:3: UserWarning: Pandas doesn't allow columns to be created via a new attribute name - see https://pandas.pydata.org/pandas-docs/stable/indexing.html#attribute-access\n",
      "  data.target = data.Survived\n"
     ]
    }
   ],
   "source": [
    "data = titanic\n",
    "data.features = data[['Pclass','Sex','Age','SibSp','Parch','Embarked']]\n",
    "data.target = data.Survived"
   ]
  },
  {
   "cell_type": "code",
   "execution_count": 274,
   "metadata": {},
   "outputs": [],
   "source": [
    "data.features = preprocessing.MinMaxScaler().fit_transform(data.features) #Se escalan los datos, preprocesan, mejora efectividad\n",
    "model = KNeighborsClassifier(n_neighbors=10) #K\n",
    "fittedM = model.fit(data.features,data.target)"
   ]
  },
  {
   "cell_type": "code",
   "execution_count": 275,
   "metadata": {},
   "outputs": [
    {
     "name": "stdout",
     "output_type": "stream",
     "text": [
      "     PassengerId  Pclass                                          Name  \\\n",
      "0            892       3                              Kelly, Mr. James   \n",
      "1            893       3              Wilkes, Mrs. James (Ellen Needs)   \n",
      "2            894       2                     Myles, Mr. Thomas Francis   \n",
      "3            895       3                              Wirz, Mr. Albert   \n",
      "4            896       3  Hirvonen, Mrs. Alexander (Helga E Lindqvist)   \n",
      "..           ...     ...                                           ...   \n",
      "413         1305       3                            Spector, Mr. Woolf   \n",
      "414         1306       1                  Oliva y Ocana, Dona. Fermina   \n",
      "415         1307       3                  Saether, Mr. Simon Sivertsen   \n",
      "416         1308       3                           Ware, Mr. Frederick   \n",
      "417         1309       3                      Peter, Master. Michael J   \n",
      "\n",
      "        Sex   Age  SibSp  Parch              Ticket      Fare Cabin Embarked  \n",
      "0      male  34.5      0      0              330911    7.8292   NaN        Q  \n",
      "1    female  47.0      1      0              363272    7.0000   NaN        S  \n",
      "2      male  62.0      0      0              240276    9.6875   NaN        Q  \n",
      "3      male  27.0      0      0              315154    8.6625   NaN        S  \n",
      "4    female  22.0      1      1             3101298   12.2875   NaN        S  \n",
      "..      ...   ...    ...    ...                 ...       ...   ...      ...  \n",
      "413    male   NaN      0      0           A.5. 3236    8.0500   NaN        S  \n",
      "414  female  39.0      0      0            PC 17758  108.9000  C105        C  \n",
      "415    male  38.5      0      0  SOTON/O.Q. 3101262    7.2500   NaN        S  \n",
      "416    male   NaN      0      0              359309    8.0500   NaN        S  \n",
      "417    male   NaN      1      1                2668   22.3583   NaN        C  \n",
      "\n",
      "[418 rows x 11 columns]\n"
     ]
    }
   ],
   "source": [
    "dtest = pd.read_csv('./test.csv')\n",
    "print(dtest)\n"
   ]
  },
  {
   "cell_type": "code",
   "execution_count": 276,
   "metadata": {},
   "outputs": [
    {
     "name": "stdout",
     "output_type": "stream",
     "text": [
      "PassengerId\n",
      "False    418\n",
      "Name: PassengerId, dtype: int64\n",
      "\n",
      "Pclass\n",
      "False    418\n",
      "Name: Pclass, dtype: int64\n",
      "\n",
      "Name\n",
      "False    418\n",
      "Name: Name, dtype: int64\n",
      "\n",
      "Sex\n",
      "False    418\n",
      "Name: Sex, dtype: int64\n",
      "\n",
      "Age\n",
      "False    418\n",
      "Name: Age, dtype: int64\n",
      "\n",
      "SibSp\n",
      "False    418\n",
      "Name: SibSp, dtype: int64\n",
      "\n",
      "Parch\n",
      "False    418\n",
      "Name: Parch, dtype: int64\n",
      "\n",
      "Ticket\n",
      "False    418\n",
      "Name: Ticket, dtype: int64\n",
      "\n",
      "Fare\n",
      "False    417\n",
      "True       1\n",
      "Name: Fare, dtype: int64\n",
      "\n",
      "Cabin\n",
      "False    418\n",
      "Name: Cabin, dtype: int64\n",
      "\n",
      "Embarked\n",
      "False    418\n",
      "Name: Embarked, dtype: int64\n",
      "\n"
     ]
    }
   ],
   "source": [
    "dtest[['Age']] = dtest[['Age']].astype('float')\n",
    "dtest.dropna(subset=['Embarked'],axis = 0,inplace=True)\n",
    "dtest.reset_index(drop=True,inplace=True)\n",
    "dtest['Cabin'].replace(np.nan, dtest['Cabin'].value_counts().idxmax(),inplace=True)\n",
    "age_mean = dtest['Age'].mean(axis=0)\n",
    "dtest['Age'].replace(np.nan,age_mean,inplace=True)\n",
    "dtest['Sex'].replace('male',1,inplace=True)\n",
    "dtest['Sex'].replace('female',0,inplace=True)\n",
    "dtest['Embarked'].replace('C',1,inplace=True)\n",
    "dtest['Embarked'].replace('Q',2,inplace=True)\n",
    "dtest['Embarked'].replace('S',3,inplace=True)\n",
    "\n",
    "\n",
    "missing_data = dtest.isnull()\n",
    "for column in missing_data.columns.values.tolist():\n",
    "    print(column)\n",
    "    print (missing_data[column].value_counts())\n",
    "    print(\"\") "
   ]
  },
  {
   "cell_type": "code",
   "execution_count": 277,
   "metadata": {},
   "outputs": [
    {
     "name": "stderr",
     "output_type": "stream",
     "text": [
      "C:\\Users\\folgu\\AppData\\Local\\Temp\\ipykernel_7688\\1605663153.py:1: UserWarning: Pandas doesn't allow columns to be created via a new attribute name - see https://pandas.pydata.org/pandas-docs/stable/indexing.html#attribute-access\n",
      "  dtest.features = dtest[['Pclass','Sex','Age','SibSp','Parch','Embarked']]\n"
     ]
    }
   ],
   "source": [
    "dtest.features = dtest[['Pclass','Sex','Age','SibSp','Parch','Embarked']]\n",
    "dtest.features = preprocessing.MinMaxScaler().fit_transform(dtest.features)\n",
    "pred = fittedM.predict(dtest.features)"
   ]
  },
  {
   "cell_type": "code",
   "execution_count": 278,
   "metadata": {},
   "outputs": [],
   "source": [
    "#print(pred)\n",
    "dtest['Survived'] = pred\n",
    "dtest = dtest[['PassengerId','Survived']]\n",
    "dtest.set_index('PassengerId',inplace=True)\n",
    "dtest.to_csv('answer.csv')"
   ]
  },
  {
   "cell_type": "code",
   "execution_count": null,
   "metadata": {},
   "outputs": [],
   "source": []
  }
 ],
 "metadata": {
  "kernelspec": {
   "display_name": "Python 3.9.1 64-bit",
   "language": "python",
   "name": "python3"
  },
  "language_info": {
   "codemirror_mode": {
    "name": "ipython",
    "version": 3
   },
   "file_extension": ".py",
   "mimetype": "text/x-python",
   "name": "python",
   "nbconvert_exporter": "python",
   "pygments_lexer": "ipython3",
   "version": "3.9.1"
  },
  "orig_nbformat": 4,
  "vscode": {
   "interpreter": {
    "hash": "c515940fd0b72d049a5cea58f24e29d431010214a8f7a9346197f29e4c5b918d"
   }
  }
 },
 "nbformat": 4,
 "nbformat_minor": 2
}
